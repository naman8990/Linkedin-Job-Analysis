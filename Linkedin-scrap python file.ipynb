{
 "cells": [
  {
   "cell_type": "code",
   "execution_count": 13,
   "metadata": {},
   "outputs": [],
   "source": [
    "from selenium import webdriver \n",
    "from bs4 import BeautifulSoup\n",
    "import time\n",
    "from selenium.webdriver.common.keys import Keys\n",
    "from selenium.webdriver.chrome.options import Options\n",
    "from selenium.webdriver.support.ui import WebDriverWait\n",
    "from selenium.webdriver.support import expected_conditions as EC\n",
    "from getpass import getpass\n",
    "from selenium.webdriver.common.by import By"
   ]
  },
  {
   "cell_type": "code",
   "execution_count": 14,
   "metadata": {},
   "outputs": [
    {
     "name": "stderr",
     "output_type": "stream",
     "text": [
      "C:\\Users\\naman\\AppData\\Local\\Temp\\ipykernel_11796\\2172674844.py:1: DeprecationWarning: executable_path has been deprecated, please pass in a Service object\n",
      "  driver=webdriver.Chrome(executable_path=\"E:\\\\exe\\\\chromedriver.exe\")\n"
     ]
    }
   ],
   "source": [
    "driver=webdriver.Chrome(executable_path=\"E:\\\\exe\\\\chromedriver.exe\")\n",
    "driver.get(\"https://linkedin.com/uas/login\")\n",
    "time.sleep(5)\n",
    "email = driver.find_element(\"id\",\"username\")\n",
    "with open(r\"C:\\Users\\naman\\OneDrive\\Desktop\\username.txt\") as myuser:\n",
    "    username=myuser.read()\n",
    "email.send_keys(username)\n",
    "pword = driver.find_element(\"id\",\"password\")\n",
    "with open(r\"C:\\Users\\naman\\OneDrive\\Desktop\\pass.txt\") as mypassword:\n",
    "    password=mypassword.read()\n",
    "pword.send_keys(password)\n",
    "driver.find_element(\"xpath\",\"//button[@type='submit']\").click()\n",
    "time.sleep(4)"
   ]
  },
  {
   "cell_type": "code",
   "execution_count": 15,
   "metadata": {},
   "outputs": [],
   "source": [
    "# page change\n",
    "obj=0\n",
    "company_name =[]\n",
    "job_titles=[]\n",
    "locations=[]\n",
    "followers=[]\n",
    "emp_count=[]\n",
    "involvement=[]\n"
   ]
  },
  {
   "cell_type": "code",
   "execution_count": 16,
   "metadata": {},
   "outputs": [],
   "source": [
    "for i in range(1):\n",
    "    pagen=f\"https://www.linkedin.com/jobs/collections/?&start={obj}\"\n",
    "    driver.get(pagen)\n",
    "    obj+=25\n",
    "    time.sleep(6)\n",
    "\n",
    "    for element in range(1,25):\n",
    "        try:\n",
    "            first = driver.find_element('xpath', f'/html/body/div[5]/div[3]/div[4]/div/div/main/div/section[1]/div/ul/li[{element}]/div/div[1]')\n",
    "            first.click()\n",
    "            driver.execute_script(\"return arguments[0].scrollIntoView();\", first)\n",
    "                # Giving the time to load the data \n",
    "            time.sleep(3)\n",
    "            try:\n",
    "                company=driver.find_element('xpath',f\"/html/body/div[5]/div[3]/div[4]/div/div/main/div/section[1]/div/ul/li[{element}]/div/div[1]/div[1]/div[2]/div[2]/div\")\n",
    "                company_name.append(company.text)  \n",
    "            except:\n",
    "                pass \n",
    "            try:\n",
    "                title= driver.find_element('xpath', '/html/body/div[5]/div[3]/div[4]/div/div/main/div/section[2]/div/div[2]/div[1]/div/div[1]/div/div[1]/div[1]/a/h2')\n",
    "                job_titles.append(title.text)\n",
    "            except:\n",
    "                pass  \n",
    "             \n",
    "            try:\n",
    "                location=driver.find_element('xpath',f'/html/body/div[5]/div[3]/div[4]/div/div/main/div/section[1]/div/ul/li[{element}]/div/div[1]/div[1]/div[2]/div[3]/ul/li[1]')\n",
    "                locations.append(location.text)  \n",
    "            except:\n",
    "                pass\n",
    "            try:\n",
    "                follower=driver.find_element('xpath','/html/body/div[5]/div[3]/div[4]/div/div/main/div/section[2]/div/div[2]/div[1]/div/section/section/div[1]/div[1]/div/div[2]/div[2]')\n",
    "                followers.append(follower.text)\n",
    "            except:\n",
    "                pass\n",
    "            try:\n",
    "                emp=driver.find_element('xpath','/html/body/div[5]/div[3]/div[4]/div/div/main/div/section[2]/div/div[2]/div[1]/div/div[1]/div/div[1]/div[1]/div[2]/ul/li[2]/span')\n",
    "                emp_count.append(emp.text)\n",
    "            except:\n",
    "                pass\n",
    "            try:\n",
    "                involv=driver.find_element('xpath','/html/body/div[5]/div[3]/div[4]/div/div/main/div/section[2]/div/div[2]/div[1]/div/div[1]/div/div[1]/div[1]/div[2]/ul/li[1]/span')\n",
    "                involvement.append(involv.text)\n",
    "            except:\n",
    "                pass\n",
    "                \n",
    "        except:\n",
    "            pass"
   ]
  },
  {
   "cell_type": "code",
   "execution_count": null,
   "metadata": {},
   "outputs": [],
   "source": [
    "# d={\n",
    "#     'company':company_name,\n",
    "#     'job_title':jobtitle,\n",
    "#     'location':locat,\n",
    "#     'followers':followers,\n",
    "#     'emp_count':emp,\n",
    "#     'involvment':involvementt   \n",
    "# }"
   ]
  }
 ],
 "metadata": {
  "kernelspec": {
   "display_name": "base",
   "language": "python",
   "name": "python3"
  },
  "language_info": {
   "codemirror_mode": {
    "name": "ipython",
    "version": 3
   },
   "file_extension": ".py",
   "mimetype": "text/x-python",
   "name": "python",
   "nbconvert_exporter": "python",
   "pygments_lexer": "ipython3",
   "version": "3.9.12"
  },
  "orig_nbformat": 4,
  "vscode": {
   "interpreter": {
    "hash": "cb76a29a22e3a87a2bd1a8bba02c8fe35b59ec96fadc79da57b115b6ac021fff"
   }
  }
 },
 "nbformat": 4,
 "nbformat_minor": 2
}
